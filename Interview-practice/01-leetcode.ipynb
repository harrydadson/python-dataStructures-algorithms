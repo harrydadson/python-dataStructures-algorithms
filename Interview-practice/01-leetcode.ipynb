{
 "cells": [
  {
   "cell_type": "code",
   "execution_count": 1,
   "source": [
    "def sum1(n):\n",
    "    '''Take an input of n and return the sum of the numbers from 0 to n'''\n",
    "    final_sum = 0\n",
    "    for x in range(n+1):\n",
    "        final_sum += x\n",
    "\n",
    "    return final_sum\n",
    "\n",
    "sum1(5)"
   ],
   "outputs": [
    {
     "output_type": "execute_result",
     "data": {
      "text/plain": [
       "15"
      ]
     },
     "metadata": {},
     "execution_count": 1
    }
   ],
   "metadata": {}
  },
  {
   "cell_type": "code",
   "execution_count": 2,
   "source": [
    "def sum2(n):\n",
    "    '''Take an input of n and return the sum of the numbers from 0 to n'''\n",
    "    return (n*(n+1)) / 2\n",
    "    \n",
    "sum2(5)"
   ],
   "outputs": [
    {
     "output_type": "execute_result",
     "data": {
      "text/plain": [
       "15.0"
      ]
     },
     "metadata": {},
     "execution_count": 2
    }
   ],
   "metadata": {}
  },
  {
   "cell_type": "code",
   "execution_count": 3,
   "source": [
    "'''Anagram - using exact same letters, then rearrange to make other words'''\n",
    "\n",
    "def anagram(s1, s2):\n",
    "\n",
    "    # remove spaces and lowercase letters\n",
    "    s1 = s1.replace(' ', '').lower()\n",
    "    s2 = s2.replace(' ', '').lower()\n",
    "\n",
    "    # return boolean\n",
    "    return sorted(s1) == sorted(s2)\n",
    "\n",
    "anagram('dog', 'god')"
   ],
   "outputs": [
    {
     "output_type": "execute_result",
     "data": {
      "text/plain": [
       "True"
      ]
     },
     "metadata": {},
     "execution_count": 3
    }
   ],
   "metadata": {}
  },
  {
   "cell_type": "code",
   "execution_count": 4,
   "source": [
    "# optimal anagram solution\n",
    "\n",
    "def anagram2(s1, s2):\n",
    "    \n",
    "    # remove spaces and lowercase letters\n",
    "    s1 = s1.replace(' ', '').lower()\n",
    "    s2 = s2.replace(' ', '').lower()\n",
    "\n",
    "    # check if same # of letters\n",
    "    if len(s1) != len(s2):\n",
    "        return False\n",
    "\n",
    "    # count frequency of each letter\n",
    "    count = {}\n",
    "    for letter in s1: # for every letter in first string\n",
    "        if letter in count: # if letter is already in my dictionary, then\n",
    "            count[letter] += 1 # add 1 to that letter key\n",
    "        else:\n",
    "            count[letter] = 1\n",
    "\n",
    "    # do reverse for second string\n",
    "    for letter in s2:\n",
    "        if letter in count:\n",
    "            count[letter] -= 1\n",
    "        else: \n",
    "            count[letter] = 1\n",
    "\n",
    "    for k in count:\n",
    "        if count[k] != 0:\n",
    "            return False\n",
    "\n",
    "    return True\n",
    "\n",
    "x = anagram2(\"Clint Eastwood\", \"old WEST action\")\n",
    "print(x)\n"
   ],
   "outputs": [
    {
     "output_type": "stream",
     "name": "stdout",
     "text": [
      "True\n"
     ]
    }
   ],
   "metadata": {}
  },
  {
   "cell_type": "code",
   "execution_count": 5,
   "source": [
    "'''\n",
    "Array Pair Sum\n",
    "Given an integer array, output all the unique pairs that sum up to a specific value k.\n",
    "imput: pair_sum([1,3,2,2], 4) would return 2 pairs: (1, 3) , (2,2)\n",
    "'''\n",
    "\n",
    "def pair_sum(arr, k):\n",
    "\n",
    "    if len(arr) < 2:\n",
    "        return print(\"too small\")\n",
    "\n",
    "    seen = set()\n",
    "    output = set()\n",
    "\n",
    "    for num in arr:\n",
    "        target = k - num\n",
    "\n",
    "        if target not in seen:\n",
    "            seen.add(num)\n",
    "        else:\n",
    "            output.add((min(num, target), max(num, target)))\n",
    "\n",
    "    print('\\n'.join(map(str, list(output))))\n",
    "\n",
    "pair_sum([1,3,2,2], 4)"
   ],
   "outputs": [
    {
     "output_type": "stream",
     "name": "stdout",
     "text": [
      "(1, 3)\n",
      "(2, 2)\n"
     ]
    }
   ],
   "metadata": {}
  },
  {
   "cell_type": "code",
   "execution_count": 6,
   "source": [
    "'''\n",
    "Largest Sum\n",
    "Take an array with positive and negative numbers and find maximum sum of that array\n",
    "'''\n",
    "\n",
    "def largest_sum(array):\n",
    "\n",
    "    if len(array) == 0:\n",
    "        return print(\"Too Small\")\n",
    "\n",
    "    max_sum = current_sum = array[0]\n",
    "\n",
    "    for num in array[1:]:\n",
    "        current_sum = max(current_sum + num, num)\n",
    "        max_sum = max(current_sum, max_sum)\n",
    "\n",
    "    return max_sum\n",
    "\n",
    "print(largest_sum([7,1,2,-1,3,4,10,-12,3,21,-19]))"
   ],
   "outputs": [
    {
     "output_type": "stream",
     "name": "stdout",
     "text": [
      "38\n"
     ]
    }
   ],
   "metadata": {}
  },
  {
   "cell_type": "code",
   "execution_count": 7,
   "source": [
    "'''\n",
    "Reverse String\n",
    "\n",
    "start = \"This is the best\"\n",
    "finish = \"best the is This\"\n",
    "'''\n",
    "\n",
    "def reverse(s):\n",
    "    return \"-\".join(reversed(s.split()))\n",
    "\n",
    "print(reverse(\"This is the best\"))"
   ],
   "outputs": [
    {
     "output_type": "stream",
     "name": "stdout",
     "text": [
      "best-the-is-This\n"
     ]
    }
   ],
   "metadata": {}
  },
  {
   "cell_type": "code",
   "execution_count": 8,
   "source": [
    "def reverse1(s):\n",
    "    return \" \".join(s.split()[::-1])\n",
    "\n",
    "print(reverse1(\"Oak Wood\"))"
   ],
   "outputs": [
    {
     "output_type": "stream",
     "name": "stdout",
     "text": [
      "Wood Oak\n"
     ]
    }
   ],
   "metadata": {}
  },
  {
   "cell_type": "code",
   "execution_count": 9,
   "source": [
    "def reverse2(s):\n",
    "    length = len(s)\n",
    "    spaces = [' ']\n",
    "    words = []\n",
    "    i = 0\n",
    "\n",
    "    while i < length:\n",
    "        if s[i] != spaces:\n",
    "            word_start = i\n",
    "\n",
    "            while i < length and s[i] != spaces:\n",
    "                i += 1\n",
    "\n",
    "            words.append(s[word_start:i])\n",
    "\n",
    "        i += 1\n",
    "\n",
    "    return \"\".join(reversed(s))\n",
    "\n",
    "print(reverse2(\"Billy Boy\"))"
   ],
   "outputs": [
    {
     "output_type": "stream",
     "name": "stdout",
     "text": [
      "yoB ylliB\n"
     ]
    }
   ],
   "metadata": {}
  },
  {
   "cell_type": "code",
   "execution_count": 11,
   "source": [
    "'''\n",
    "Array Rotation\n",
    "\n",
    "Given 2 arrays (assume no duplicates) is one array the rotation of the other?\n",
    "return True or False, same size and elements but index is different\n",
    "'''\n",
    "\n",
    "def rotation(list1, list2):\n",
    "\n",
    "    if len(list1) != len(list2):\n",
    "        return False\n",
    "\n",
    "    key = list1[0]\n",
    "    key_index = 0\n",
    "\n",
    "    for i in range(len(list2)):\n",
    "        if list2[i] == key:\n",
    "            key_index = i\n",
    "\n",
    "            break\n",
    "\n",
    "    if key_index == 0:\n",
    "        return False\n",
    "\n",
    "    for x in range(len(list1)):\n",
    "        l2_index = (key_index + x) % len(list1)\n",
    "\n",
    "        if list1[x] != list2[l2_index]:\n",
    "            return False\n",
    "        return True\n",
    "\n",
    "print(rotation([1,2,3,4,5,6,7], [4,5,6,7,1,2,3,]))"
   ],
   "outputs": [
    {
     "output_type": "stream",
     "name": "stdout",
     "text": [
      "True\n"
     ]
    }
   ],
   "metadata": {}
  },
  {
   "cell_type": "code",
   "execution_count": 12,
   "source": [
    "'''\n",
    "Common elements in 2 sorted arrays\n",
    "\n",
    "return the common elements (as an array) between 2 sortedarrays of integers (ascending order)\n",
    "ex. The common elements b/n [1,3,4,6,7,9] and [1,2,4,5,9,10] are [1,4,9]\n",
    "'''\n",
    "\n",
    "def common_elements(a, b):\n",
    "\n",
    "    p1 = 0\n",
    "    p2 = 0\n",
    "\n",
    "    result = []\n",
    "\n",
    "    while p1 < len(a) and p2 < len(b):\n",
    "\n",
    "        if a[p1] == b[p2]:\n",
    "            result.append(a[p1])\n",
    "            p1 += 1\n",
    "            p2 += 2\n",
    "\n",
    "        elif a[p1] > b[p2]:\n",
    "            p2 += 1\n",
    "\n",
    "        else:\n",
    "            p1 += 1\n",
    "    return result\n",
    "\n",
    "print(common_elements([1,3,4,6,7,9], [1,2,4,5,9,10]))\n",
    "\n"
   ],
   "outputs": [
    {
     "output_type": "stream",
     "name": "stdout",
     "text": [
      "[1, 4, 9]\n"
     ]
    }
   ],
   "metadata": {}
  },
  {
   "cell_type": "code",
   "execution_count": 15,
   "source": [
    "'''\n",
    "Most Frequent\n",
    "\n",
    "Given an array, what is the most frequently occuring element\n",
    "'''\n",
    "\n",
    "def most_frequent(lst):\n",
    "    count = {}\n",
    "    max_count = 0\n",
    "    max_item = None\n",
    "\n",
    "    for i in lst:\n",
    "        if i not in count:\n",
    "            count[i] = 1\n",
    "\n",
    "        else: \n",
    "            count[i] += 1\n",
    "\n",
    "        if count[i] > max_count:\n",
    "            max_count = count[i]\n",
    "\n",
    "            max_item = i \n",
    "\n",
    "    return max_item\n",
    "\n",
    "print(most_frequent([1,3,3,3,3,2,1,1,1,1])) \n"
   ],
   "outputs": [
    {
     "output_type": "stream",
     "name": "stdout",
     "text": [
      "1\n"
     ]
    }
   ],
   "metadata": {}
  },
  {
   "cell_type": "code",
   "execution_count": 16,
   "source": [
    "'''\n",
    "Unique Characters\n",
    "\n",
    "Given a string, are all characters unique?\n",
    "should give a True or False return\n",
    "'''\n",
    "\n",
    "def unique(s):\n",
    "\n",
    "    s = s.replace(\" \", \"\")\n",
    "\n",
    "    return len(set(s)) == len(s)\n",
    "\n",
    "print(unique(\"a b cdef\"))\n"
   ],
   "outputs": [
    {
     "output_type": "stream",
     "name": "stdout",
     "text": [
      "True\n"
     ]
    }
   ],
   "metadata": {}
  },
  {
   "cell_type": "code",
   "execution_count": 19,
   "source": [
    "def unique1(s):\n",
    "    s = s.replace(\" \", \"\")\n",
    "    char = set()\n",
    "\n",
    "    for l in s:\n",
    "        if l in char:\n",
    "            return False\n",
    "        else:\n",
    "            char.add(l)\n",
    "\n",
    "    return True\n",
    "\n",
    "print(unique1(\"i lkj jrew\"))"
   ],
   "outputs": [
    {
     "output_type": "stream",
     "name": "stdout",
     "text": [
      "False\n"
     ]
    }
   ],
   "metadata": {}
  },
  {
   "cell_type": "code",
   "execution_count": 20,
   "source": [
    "'''\n",
    "Non-repeat element\n",
    "\n",
    "Take a string and return character that never repeats if multiple uniques \n",
    "then return only the first unique\n",
    "'''\n",
    "\n",
    "def non_repeat(s):\n",
    "\n",
    "    s = s.replace(\" \", \"\").lower()\n",
    "    char_count = {}\n",
    "\n",
    "    for c in s:\n",
    "        if c in char_count:\n",
    "            char_count[c] += 1\n",
    "\n",
    "        else:\n",
    "            char_count[c] = 1\n",
    "\n",
    "    all_uniques = []\n",
    "    y = sorted(char_count.items(), key=lambda x: x[1])\n",
    "\n",
    "    for item in y:\n",
    "        if item[1] == y[0][1]:\n",
    "            all_uniques.append(item)\n",
    "\n",
    "    return all_uniques\n",
    "    # for c in s:\n",
    "    #     if char_count[c] == 1:\n",
    "    #         return c\n",
    "        \n",
    "    # return None\n",
    "\n",
    "print(non_repeat(\"I Apple Ape Peels\"))"
   ],
   "outputs": [
    {
     "output_type": "stream",
     "name": "stdout",
     "text": [
      "i\n"
     ]
    }
   ],
   "metadata": {}
  },
  {
   "cell_type": "code",
   "execution_count": null,
   "source": [],
   "outputs": [],
   "metadata": {}
  }
 ],
 "metadata": {
  "orig_nbformat": 4,
  "language_info": {
   "name": "python",
   "version": "3.7.3",
   "mimetype": "text/x-python",
   "codemirror_mode": {
    "name": "ipython",
    "version": 3
   },
   "pygments_lexer": "ipython3",
   "nbconvert_exporter": "python",
   "file_extension": ".py"
  },
  "kernelspec": {
   "name": "python3",
   "display_name": "Python 3.7.3 64-bit ('base': conda)"
  },
  "interpreter": {
   "hash": "8cfe4c61b6106ccbb63630d22015ae929285e0e19623f41c3196cd566f002992"
  }
 },
 "nbformat": 4,
 "nbformat_minor": 2
}