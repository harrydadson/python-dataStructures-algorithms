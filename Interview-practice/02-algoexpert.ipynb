{
 "cells": [
  {
   "cell_type": "code",
   "execution_count": null,
   "metadata": {},
   "outputs": [],
   "source": [
    "''' Fibonacci sequence\n",
    "    sample input: 6\n",
    "    sample otput: 5 (0, 1, 1, 2, 3, 5)\n",
    "'''\n",
    "\n",
    "def getNthFib(n):\n",
    "\n",
    "    if n == 1:\n",
    "        return 0\n",
    "    if n <= 3:\n",
    "        return 1\n",
    "\n",
    "    return getNthFib(n - 1) + getNthFib(n - 2)\n"
   ]
  },
  {
   "cell_type": "code",
   "execution_count": 1,
   "metadata": {},
   "outputs": [],
   "source": [
    "# or\n",
    "\n",
    "def getNthFib(n, calculated = {1:0, 2:1, 3:1}):\n",
    "\n",
    "    if n in calculated:\n",
    "        return calculated[n]\n",
    "\n",
    "    calculated[n] = getNthFib(n-1, calculated) + getNthFib(n-2, calculated)\n",
    "\n",
    "    return calculated[n]\n",
    "\n"
   ]
  },
  {
   "cell_type": "code",
   "execution_count": 4,
   "metadata": {},
   "outputs": [
    {
     "name": "stdout",
     "output_type": "stream",
     "text": [
      "[2, 1, 4, 0, 0]\n"
     ]
    }
   ],
   "source": [
    "'''\n",
    "Given an array of integers, write a function to move all 0's to the end\n",
    "while maintaining the relative order of the other elements.\n",
    "ex. [0, 1, 0, 3, 12] -> [1, 3, 12, 0, 0]\n",
    "\n",
    "scenario: move non-zero element to begining of array\n",
    "'''\n",
    "\n",
    "from typing import List\n",
    "\n",
    "class Solution:\n",
    "\n",
    "    def moveZeros(self, nums: List[int]):\n",
    "\n",
    "        j = 0\n",
    "        n = len(nums)\n",
    "        for num in nums:\n",
    "            if (num != 0):\n",
    "                nums[j] = num\n",
    "                j += 1\n",
    "\n",
    "        for x in range(j, len(nums)):\n",
    "            nums[x] = 0\n",
    "        print(nums)\n",
    "\n",
    "s = Solution()\n",
    "s.moveZeros([0,2,0,1,4]) \n",
    "\n"
   ]
  },
  {
   "cell_type": "code",
   "execution_count": 5,
   "metadata": {},
   "outputs": [
    {
     "name": "stdout",
     "output_type": "stream",
     "text": [
      "3\n"
     ]
    }
   ],
   "source": [
    "'''\n",
    "Boats to save ppl\n",
    "- max # of ppl boat can carry is 2\n",
    "- every individual person has a weight lower than or equal to limit\n",
    "- worst case scenario is that it'd take as many boats as there are ppl\n",
    "'''\n",
    "from typing import List\n",
    "class Solution1:\n",
    "\n",
    "    def numRescueBoats(self, ppl: List[int], limit: int) -> int:\n",
    "\n",
    "        ppl.sort()\n",
    "\n",
    "        n = len(ppl)\n",
    "        left = 0\n",
    "        right = len(ppl) - 1 # last number\n",
    "        boats_num = 0\n",
    "\n",
    "        while(left <= right):\n",
    "\n",
    "            if (left == right):\n",
    "                boats_num += 1\n",
    "                break\n",
    "\n",
    "            if (ppl[left] + ppl[right] <= limit):\n",
    "                left += 1\n",
    "\n",
    "            right -= 1\n",
    "            boats_num += 1\n",
    "\n",
    "        return boats_num\n",
    "\n",
    "s = Solution1()\n",
    "# Example\n",
    "'''\n",
    "[2,1,3,4], limit = 4\n",
    "sorted -> [1,2,3,4]\n",
    "\n",
    "[4]\n",
    "[1,3]\n",
    "[2]\n",
    "3 boats\n",
    "'''\n",
    "ans = s.numRescueBoats([2,1,3,4], 4)\n",
    "print(ans)\n"
   ]
  },
  {
   "cell_type": "code",
   "execution_count": 8,
   "metadata": {},
   "outputs": [
    {
     "name": "stdout",
     "output_type": "stream",
     "text": [
      "True\n"
     ]
    }
   ],
   "source": [
    "'''\n",
    "Valid mountain array\n",
    "\n",
    "- increasing sequence followed by decreasing \n",
    "'''\n",
    "class Solution2:\n",
    "\n",
    "    def validMountainArray(self, A: List[int]) -> bool:\n",
    "\n",
    "        if (len(A) < 3):\n",
    "            return False\n",
    "\n",
    "        i = 1\n",
    "        while(i < len(A) and A[i] > A[i - 1]): # current number > previous so we increment\n",
    "            i += 1\n",
    "\n",
    "        if (i == 1 or i == len(A)):  # num=1 or num = len of array\n",
    "            return False\n",
    "\n",
    "        while(i < len(A) and A[i] < A[i - 1]):  # current number < length of arr & num < previous arr so we incr\n",
    "            i += 1\n",
    "\n",
    "        return i == len(A) # then last number = len of arr\n",
    "\n",
    "s2 = Solution2() \n",
    "\n",
    "ans2 = s2.validMountainArray([1, 2, 4, 3, 1])\n",
    "print(ans2)"
   ]
  },
  {
   "cell_type": "code",
   "execution_count": 9,
   "metadata": {},
   "outputs": [
    {
     "name": "stdout",
     "output_type": "stream",
     "text": [
      "6\n"
     ]
    }
   ],
   "source": [
    "'''\n",
    "Container with most water\n",
    "\n",
    "'''\n",
    "class Solution3:\n",
    "\n",
    "    def maxArea(self, height: List[int]) -> int:\n",
    "\n",
    "        maxarea = 0\n",
    "        l = 0\n",
    "        r = len(height) - 1\n",
    "\n",
    "        while(l < r):\n",
    "            maxarea = max(maxarea, min(height[l], height[r]) * (r - l))\n",
    "\n",
    "            if (height[l] < height[r]):\n",
    "                l += 1\n",
    "            else:\n",
    "                r -= 1\n",
    "\n",
    "        return maxarea\n",
    "\n",
    "s3 = Solution3()\n",
    "\n",
    "ans3 = s3.maxArea([2, 1, 1, 2])\n",
    "print(ans3)"
   ]
  },
  {
   "cell_type": "code",
   "execution_count": 11,
   "metadata": {},
   "outputs": [
    {
     "name": "stdout",
     "output_type": "stream",
     "text": [
      "8\n"
     ]
    }
   ],
   "source": [
    "'''\n",
    "longest substring without repeating chars\n",
    "\n",
    "input: abcabcbb\n",
    "output: 3\n",
    "'''\n",
    "\n",
    "class solution4:\n",
    "\n",
    "    def lengthOfLongestSubstring(self, s: str) -> int:\n",
    "        m = {}\n",
    "        left = 0\n",
    "        right = 0\n",
    "        ans = 0 \n",
    "        n = len(s)\n",
    "\n",
    "        while (left < n and right < n):\n",
    "            el = s[right]\n",
    "\n",
    "            if (el in m):\n",
    "                left = max(left, m[el] + 1)\n",
    "\n",
    "            m[el] = right\n",
    "\n",
    "            ans = max(ans, right - left + 1)\n",
    "            right += 1\n",
    "\n",
    "        return ans\n",
    "\n",
    "s4 = solution4()\n",
    "ans4 = s4.lengthOfLongestSubstring('fivestarreview')\n",
    "print(ans4)\n"
   ]
  },
  {
   "cell_type": "code",
   "execution_count": 2,
   "metadata": {},
   "outputs": [
    {
     "name": "stdout",
     "output_type": "stream",
     "text": [
      "[4, 7]\n"
     ]
    }
   ],
   "source": [
    "'''\n",
    "find first and last position of element in sorted array\n",
    "'''\n",
    "from typing import *\n",
    "\n",
    "class Solution5:\n",
    "\n",
    "    def getLeftPosition(self, nums, target):\n",
    "        left = 0\n",
    "        right = len(nums) - 1\n",
    "\n",
    "        while(left <= right):\n",
    "            mid = (left + right) // 2\n",
    "            if(nums[mid] == target):\n",
    "                if(mid - 1 >= 0 and nums[mid - 1] != target or mid==0):\n",
    "                    return mid\n",
    "                right = mid - 1\n",
    "            elif(nums[mid]>target):\n",
    "                right = mid - 1\n",
    "            else:\n",
    "                left = mid + 1\n",
    "        return -1\n",
    "\n",
    "    def getRightPosition(self, nums, target):\n",
    "        left = 0\n",
    "        right = len(nums) - 1\n",
    "\n",
    "        while(left <= right):\n",
    "            mid = (left + right) // 2\n",
    "            if(nums[mid] == target):\n",
    "                if(mid + 1 < len(nums) and nums[mid + 1] != target or mid == len(nums) - 1):\n",
    "                    return mid\n",
    "                left = mid + 1\n",
    "            elif(nums[mid]>target):\n",
    "                right = mid - 1\n",
    "            else:\n",
    "                left = mid + 1\n",
    "        return -1\n",
    "\n",
    "    def searchRange(self, nums: List[int], target: int) -> List[int]:\n",
    "        left = self.getLeftPosition(nums, target)\n",
    "        right = self.getRightPosition(nums, target)\n",
    "\n",
    "        return [left, right]\n",
    "\n",
    "s5 = Solution5()\n",
    "\n",
    "ans5 = s5.searchRange([1,2,2,3,4,4,4,4], 4) # ans[4, 7]\n",
    "print(ans5)"
   ]
  },
  {
   "cell_type": "code",
   "execution_count": 3,
   "metadata": {},
   "outputs": [
    {
     "name": "stdout",
     "output_type": "stream",
     "text": [
      "3\n"
     ]
    }
   ],
   "source": [
    "'''\n",
    "First bad version\n",
    "\n",
    "given a num N that represent amount of version and a function that accepts\n",
    "a number and returns whether it's a bed version or not, Find the first bad\n",
    "version of the array\n",
    "\n",
    "- if version is bad, all versions after it are also bad\n",
    "- create 2 pointers, start and end, start at 1 and end  at N\n",
    "- find mid b/n the 2 pointers\n",
    "- if mid is not a bad version, set start to mid+1\n",
    "- if mid is a bad version, set end to mid\n",
    "\n",
    "start = 1\n",
    "end = 6\n",
    "mid = (1 + 6) / 2\n",
    "'''\n",
    "\n",
    "def isBadVersion(version):\n",
    "    first_badVersion = 3\n",
    "    return version >= first_badVersion\n",
    "\n",
    "class Solution6:\n",
    "\n",
    "    def fistBadVersion(self, n):\n",
    "        '''\n",
    "        type n: int\n",
    "        rtype: int\n",
    "        '''\n",
    "        left =  1\n",
    "        right = n\n",
    "\n",
    "        while(left < right):\n",
    "            mid = (right + left) // 2\n",
    "            if (not isBadVersion(mid)):\n",
    "                left = mid + 1\n",
    "            else:\n",
    "                right = mid\n",
    "\n",
    "        return left\n",
    "\n",
    "s6 = Solution6()\n",
    "\n",
    "ans6 = s6.fistBadVersion(10)\n",
    "print(ans6) #3"
   ]
  },
  {
   "cell_type": "code",
   "execution_count": 4,
   "metadata": {},
   "outputs": [
    {
     "name": "stdout",
     "output_type": "stream",
     "text": [
      "2\n"
     ]
    }
   ],
   "source": [
    "'''\n",
    "Missing Number\n",
    "\n",
    "Given an array containing n distinct numbers taken from 0, 1,2,3,4..,n\n",
    "find the missing number\n",
    "\n",
    "input: [3,0,1] -> [0,1,3]\n",
    "output: 2\n",
    "\n",
    "IntendedSum => len -> 3, 3*(3 + 1)/2 = 3 * 4 / 2 = 6,\n",
    "CurrentSum => 3 + 0 + 1 = 4\n",
    "MissingSum => 6 - 4 = 2\n",
    "'''\n",
    "\n",
    "class Solution7:\n",
    "\n",
    "    def missingNum(self, nums: List[int]) -> int:\n",
    "        currentSum = sum(nums)\n",
    "        n = len(nums)\n",
    "        intendedSum= n * (n + 1) / 2\n",
    "\n",
    "        return int(intendedSum - currentSum)\n",
    "\n",
    "s7 = Solution7()\n",
    "\n",
    "ans7 = s7.missingNum([3,0,1])\n",
    "print(ans7)"
   ]
  },
  {
   "cell_type": "code",
   "execution_count": 6,
   "metadata": {},
   "outputs": [
    {
     "name": "stdout",
     "output_type": "stream",
     "text": [
      "5\n"
     ]
    }
   ],
   "source": [
    "'''\n",
    "Count Primes (algorithm used is Sieve of Eratosthenes)\n",
    "\n",
    "count the number of prime nums less than a non-negative given num N\n",
    "'''\n",
    "import math\n",
    "from math import *\n",
    "\n",
    "class Solution8:\n",
    "\n",
    "    def countPrimes(self, n):\n",
    "\n",
    "        if (n < 2):\n",
    "            return 0\n",
    "\n",
    "        isPrime = [True] * n\n",
    "        isPrime[0] = isPrime[1] = False\n",
    "\n",
    "        for i in range(2, int(math.ceil(math.sqrt(n)))):\n",
    "            if (isPrime[i]):\n",
    "                for multiples_of_i in range(i*i, n , i):\n",
    "                    isPrime[multiples_of_i] = False\n",
    "\n",
    "        return sum(isPrime)\n",
    "\n",
    "s8 = Solution8()\n",
    "\n",
    "ans8 = s8.countPrimes(12) # 2,3,5,7,11 => 5\n",
    "print(ans8)"
   ]
  },
  {
   "cell_type": "code",
   "execution_count": 8,
   "metadata": {},
   "outputs": [
    {
     "name": "stdout",
     "output_type": "stream",
     "text": [
      "4\n"
     ]
    }
   ],
   "source": [
    "'''\n",
    "Single number\n",
    "\n",
    "Given non-empty array of integers, every element appears twice except for one, find it\n",
    "\n",
    "Ex: [2, 2, 1, 1, 4] => 2 + 2+ 1+1+4 = 10 => set(input) = [2, 1, 4] => sum(set(2, 1,4)) = 14\n",
    "output: 14 - 10 = 4\n",
    "'''\n",
    "def uniqueNums(nums):\n",
    "\n",
    "    return 2 * sum(set(nums)) - sum(nums)\n",
    "\n",
    "print(uniqueNums([2,2,1,1,4]))"
   ]
  },
  {
   "cell_type": "code",
   "execution_count": 9,
   "metadata": {},
   "outputs": [
    {
     "name": "stdout",
     "output_type": "stream",
     "text": [
      "True\n"
     ]
    }
   ],
   "source": [
    "'''\n",
    "Robot return to origin\n",
    "\n",
    "imagine a robot standing at position (0,0) in a 2-D grid, given a string\n",
    "consisting of it's moves, find the final location of the robot\n",
    "\n",
    "Ex: UDLR\n",
    "U - up (0, 0+1), D - down (0, 1-1), R - right (-1+1, 0), L - left (0-1, 0)\n",
    "'''\n",
    "\n",
    "class solution9:\n",
    "\n",
    "    def judgeCircle(self, moves: str) -> bool:\n",
    "        x = 0\n",
    "        y = 0\n",
    "\n",
    "        for move in moves:\n",
    "            if (move == 'U'):\n",
    "                y += 1\n",
    "            elif (move == 'R'):\n",
    "                x += 1\n",
    "            elif (move == 'D'):\n",
    "                y -= 1\n",
    "            elif (move == 'L'):\n",
    "                x -= 1\n",
    "\n",
    "        return x==0 and y == 0\n",
    "\n",
    "s9 = solution9()\n",
    "ans9 = s9.judgeCircle(\"URRDLL\")\n",
    "print(ans9)\n",
    "            "
   ]
  },
  {
   "cell_type": "code",
   "execution_count": 1,
   "metadata": {},
   "outputs": [
    {
     "data": {
      "text/plain": [
       "'add binary'"
      ]
     },
     "execution_count": 1,
     "metadata": {},
     "output_type": "execute_result"
    }
   ],
   "source": [
    "'''add binary'''\n",
    "\n",
    "# class Solution10(object):\n",
    "#     def addBinary(self, a, b):\n",
    "#         result = []\n",
    "#         carry = 0\n",
    "#         i = len(a)-1\n",
    "#         j = len(b)-1\n",
    "\n",
    "#         while i >= 0 or j >= 0 or carry:\n",
    "#             total = carry\n",
    "\n",
    "#             if i >= 0:\n",
    "#                 total += int(a[i])\n",
    "#                 i -= 1\n",
    "#             if j >= 0:\n",
    "#                 total += int(b[j])\n",
    "#                 j -= 1\n",
    "\n",
    "#             result.append(str(total % 2))\n",
    "#             carry = total//2\n",
    "\n",
    "#         return ''.join(reversed(result))\n",
    "\n",
    "# s10 = Solution10()\n",
    "# ans10 = s10.addBinary(\"110\",\"010\")\n",
    "# print(s10)\n",
    "\n",
    "# do not print computer will be in infinite loop"
   ]
  },
  {
   "cell_type": "code",
   "execution_count": 3,
   "metadata": {},
   "outputs": [
    {
     "name": "stdout",
     "output_type": "stream",
     "text": [
      "[0, 2]\n"
     ]
    }
   ],
   "source": [
    "'''\n",
    "Two Sum\n",
    "\n",
    "Given an array of integers and an integer target\n",
    "- return indices of numbers in the array that add up to the target number\n",
    "\n",
    "Ex: [3, 6, 12, 14], target -> 15 (0, 2), indices\n",
    "'''\n",
    "from typing import *\n",
    "\n",
    "class Solution11:\n",
    "    def twoSum(self, nums: List[int], target: int) -> List[int]:\n",
    "\n",
    "        m = {}\n",
    "        n = len(nums)\n",
    "\n",
    "        for i in range(0, n):\n",
    "            goal = target - nums[i]\n",
    "            if (goal in m):\n",
    "                return [m[goal], i]\n",
    "            m[nums[i]] = i\n",
    "\n",
    "s11 = Solution11()\n",
    "ans11 = s11.twoSum([3, 6, 12, 14], 15)\n",
    "print(ans11)"
   ]
  },
  {
   "cell_type": "code",
   "execution_count": 4,
   "metadata": {},
   "outputs": [
    {
     "name": "stdout",
     "output_type": "stream",
     "text": [
      "True\n"
     ]
    }
   ],
   "source": [
    "'''\n",
    "Contains Duplicates\n",
    "\n",
    "contains duplicates: [1,2,3,1]\n",
    "'''\n",
    "from collections import defaultdict\n",
    "\n",
    "class Solution12:\n",
    "    def containsDupe(self, nums: List[int]) -> bool:\n",
    "\n",
    "        map = defaultdict(int)\n",
    "        for num in nums:\n",
    "            if (map[num]):\n",
    "                return True\n",
    "            map[num] += 1 # else if false\n",
    "        return False\n",
    "\n",
    "s12 = Solution12()\n",
    "ans12 = s12.containsDupe([1,2,3,1])\n",
    "print(ans12)"
   ]
  },
  {
   "cell_type": "code",
   "execution_count": 5,
   "metadata": {},
   "outputs": [
    {
     "name": "stdout",
     "output_type": "stream",
     "text": [
      "1\n"
     ]
    }
   ],
   "source": [
    "'''\n",
    "Majority Element\n",
    "\n",
    "Given an array of integers of size N, find the majority element\n",
    "- appears more that n/2 times, n = array size\n",
    "\n",
    "Ex: [1, 2, 3, 1, 1] -> 1\n",
    "'''\n",
    "class Solution13:\n",
    "    def containsMajority(self, nums: List[int]) -> int:\n",
    "\n",
    "        map1 = {}\n",
    "        for num in nums:\n",
    "            map1[num] = map1.get(num, 0) + 1\n",
    "\n",
    "        for num in nums:\n",
    "            if map1[num] > len(nums) // 2:\n",
    "                return num\n",
    "\n",
    "s13 = Solution13()\n",
    "ans13 = s13.containsMajority([1,2,3,1,1])\n",
    "print(ans13)"
   ]
  },
  {
   "cell_type": "code",
   "execution_count": 6,
   "metadata": {},
   "outputs": [
    {
     "name": "stdout",
     "output_type": "stream",
     "text": [
      "[['eat', 'tea', 'ate'], ['tan', 'nat'], ['bat']]\n"
     ]
    }
   ],
   "source": [
    "'''\n",
    "Group Anagrams(word formed by rearranging the chars)\n",
    "\n",
    "[\"eat\", \"tea\", \"tan\", \"ate\", \"nat\", \"bat\"]\n",
    "\n",
    "output: [\"ate\", \"eat\", \"tea\"], [\"nat\", \"tan\"], [bat]\n",
    "'''\n",
    "from typing import *\n",
    "class Solution14:\n",
    "\n",
    "    def findHash(self, s):\n",
    "        return ''.join(sorted(s))\n",
    "\n",
    "    def groupAnagrams(self, strs: List[str]) -> List[List[str]]:\n",
    "        answers = []\n",
    "        m = {}\n",
    "\n",
    "        for s in strs:\n",
    "            hashed = self.findHash(s)\n",
    "            if (hashed not in m):\n",
    "                m[hashed] = []\n",
    "            m[hashed].append(s)\n",
    "\n",
    "        for p in m.values():\n",
    "            answers.append(p)\n",
    "\n",
    "        return answers\n",
    "\n",
    "s14 = Solution14()\n",
    "ans14 = s14.groupAnagrams([\"eat\", \"tea\", \"tan\", \"ate\", \"nat\", \"bat\"])\n",
    "print(ans14)"
   ]
  },
  {
   "cell_type": "code",
   "execution_count": 7,
   "metadata": {},
   "outputs": [
    {
     "name": "stdout",
     "output_type": "stream",
     "text": [
      "2\n"
     ]
    }
   ],
   "source": [
    "'''\n",
    "Four-Sum two\n",
    "\n",
    "- Given 4 lists A, B, C, D of 4 int values\n",
    "- comute how many tuples (i, j, k, l) there are such that A[i] + B[j] + C[k] + D[l] is 0\n",
    "- if A[i] + B[j] is equal to x, then C[k] + D[l] should be -x\n",
    "'''\n",
    "class Solution15:\n",
    "\n",
    "    def fourSumCount(self, A: List[int], B: List[int], C: List[int], D: List[int]) -> int:\n",
    "        m = {}\n",
    "        ans = 0\n",
    "        sA = len(A)\n",
    "        sB = len(B)\n",
    "        sC = len(C)\n",
    "        sD = len(D)\n",
    "\n",
    "        for i in range(0, sA):\n",
    "            x = A[i]\n",
    "            for j in range(0, sB):\n",
    "                y = B[j]\n",
    "                if (x + y not in m):\n",
    "                    m[x + y] = 0\n",
    "                m[x + y] = 1\n",
    "\n",
    "            for i in range(0, sC):\n",
    "                x = C[i]\n",
    "                for j in range(0, sD):\n",
    "                    y = D[j]\n",
    "                    target = -(x + y)\n",
    "                    if (target in m):\n",
    "                        ans += m[target]\n",
    "            \n",
    "            return ans\n",
    "\n",
    "s15 = Solution15()\n",
    "ans15 = s15.fourSumCount([-1, 1], [1, -1], [-2, 2], [2, -2])\n",
    "# A[0] + B[0] + C[0] + D[0] -> (-1) + (2) + (-2) + (2) = 0\n",
    "# A[1] + B[1] + C[0] + D[0] -> (1) + (-1) + (-2) + (2) = 0\n",
    "# A[0] + B[0] + C[1] + D[1] -> (-1) + (1) + (2) + (-2) = 0\n",
    "# A[1] + B[1] + C[1] + D[1] -> (1) + (-1) + (2) + (-2) = 0\n",
    "\n",
    "print(ans15)"
   ]
  },
  {
   "cell_type": "code",
   "execution_count": 10,
   "metadata": {},
   "outputs": [
    {
     "name": "stdout",
     "output_type": "stream",
     "text": [
      "1000\n",
      "-1\n",
      "3000\n"
     ]
    }
   ],
   "source": [
    "'''\n",
    "Least-Recently Used (LRU) Cache\n",
    "\n",
    "Ex: cache -> [1,2,3,4] coresponding values [10, 11, 15, 16], size -> 4 \n",
    "    get(3) -> [3, 1, 2, 4], which then returns 15\n",
    "    put(5, 12) -> already at capacity 4 so -> [5, 1, 2, 4]\n",
    "'''\n",
    "from collections import deque\n",
    "\n",
    "class LRUCache:\n",
    "\n",
    "    def __init__(self, capacity: int):\n",
    "        self.c = capacity\n",
    "        self.m = dict()\n",
    "        self.deq = deque()\n",
    "\n",
    "    def get(self, key: int) -> int:\n",
    "        if key in self.m:\n",
    "            value = self.m[key]\n",
    "            self.deq.remove(key)\n",
    "            self.deq.append(key)\n",
    "            return value\n",
    "        else:\n",
    "            return -1\n",
    "\n",
    "    def put(self, key: int, value: int) -> None:\n",
    "        if key not in self.m:\n",
    "            if len(self.deq) == self.c:\n",
    "                oldest = self.deq.popleft()\n",
    "                del self.m[oldest]\n",
    "        else:\n",
    "            self.deq.remove(key)\n",
    "\n",
    "        self.m[key] = value\n",
    "        self.deq.append(key)\n",
    "\n",
    "sLRU = LRUCache(3)\n",
    "sLRU.put(1, 1000)\n",
    "sLRU.put(2, 2000)\n",
    "sLRU.put(3, 3000)\n",
    "\n",
    "# [1, 2, 3]\n",
    "\n",
    "print(sLRU.get(1)) # 1000\n",
    "\n",
    "sLRU.put(4, 4000)\n",
    "# least <= [3, 1, 4]\n",
    "\n",
    "print(sLRU.get(2)) # -1\n",
    "print(sLRU.get(3)) # 3000\n",
    "# [1, 4, 3]\n"
   ]
  },
  {
   "cell_type": "code",
   "execution_count": 11,
   "metadata": {},
   "outputs": [],
   "source": [
    "'''\n",
    "Minimum Window Substring\n",
    "\n",
    "Given a string S and a string T, find the minimum window in S which will contain all the Characters in T\n",
    "Ex: S = 'ADOBEDODEBANC\", T = \"ABC\", what is the smallest substring that contains A, B, and c.\n",
    "output = BANC\n",
    "'''\n",
    "class Solution16:\n",
    "    def minWindow(self, s: str, t: str) -> str:\n",
    "        len1 = len(s)\n",
    "        len2 = len(t)\n",
    "\n",
    "        if(len1 < len2):\n",
    "            return \"\"\n",
    "\n",
    "        hashPat = {}\n",
    "        hashStr = {}\n",
    "\n",
    "        for i in range(0, len2):\n",
    "            if(hashPat.get(t[i]) is None):\n",
    "                hashPat[t[i]] = 0\n",
    "            hashPat[t[i]] += 1\n",
    "\n",
    "        count = 0\n",
    "        left = 0\n",
    "        startIndex = -1\n",
    "        minLen = float(\"inf\")\n",
    "\n",
    "        for right in range(0, len1):\n",
    "\n",
    "            if(hashStr.get(s[right]) is None):\n",
    "                hashStr[s[right]] = 0\n",
    "            hashStr[s[right]] += 1\n",
    "            if(hashPat.get(s[right]) is None):\n",
    "                hashPat[s[right]] = 0\n",
    "            if (\n",
    "\n",
    "                hashPat.get(s[right]) != 0 and\n",
    "                hashStr.get(s[right]) <= hashPat.get(s[right])\n",
    "            ):\n",
    "                count += 1  # keep incrementing the count if string hash is less then pattern hash\n",
    "            # count==len2 means a window is found that contains all character of pattern string\n",
    "            if (count == len2):\n",
    "\n",
    "                if(hashStr.get(s[left]) is None):\n",
    "                    hashStr[s[right]] = 0\n",
    "                if(hashPat.get(s[left]) is None):\n",
    "                    hashPat[s[right]] = 0\n",
    "                while (\n",
    "                    hashStr.get(s[left]) > hashPat.get(s[left]) or\n",
    "                    hashPat.get(s[left]) == 0\n",
    "                ):\n",
    "                    #minimizing the windows range from left side\n",
    "\n",
    "                    if (hashStr.get(s[left]) > hashPat.get(s[left])):\n",
    "                        hashStr[s[left]] -= 1\n",
    "                    left += 1  # incrementing the left pointer\n",
    "\n",
    "                windowLen = right - left + 1  # calculating the windows length\n",
    "                if (minLen > windowLen):\n",
    "                    minLen = windowLen\n",
    "                    startIndex = left\n",
    "\n",
    "        if (startIndex == -1):\n",
    "            return \"\"\n",
    "        return s[startIndex:startIndex+minLen]"
   ]
  },
  {
   "cell_type": "code",
   "execution_count": 15,
   "metadata": {},
   "outputs": [
    {
     "name": "stdout",
     "output_type": "stream",
     "text": [
      "<__main__.ListNode object at 0x7ff8e7079250>\n",
      "1\n",
      "1\n",
      "2\n",
      "3\n",
      "4\n",
      "4\n"
     ]
    }
   ],
   "source": [
    "'''\n",
    "Merge Two Sorted Lists\n",
    "\n",
    "- Given 2 separated sorted linked lists, merge them together and retain the sorting\n",
    "- 1 -> 2 -> 4..... 1 -> 3 -> 4 will be 1 -> 1 -> 2 -> 3 -> 4 -> 4\n",
    "'''\n",
    "class ListNode:\n",
    "    def __init__(self, x):\n",
    "        self.val = x \n",
    "        self.next = None\n",
    "\n",
    "class Solution17:\n",
    "    def mergeTwoLists(self, l1: ListNode, l2: ListNode) -> ListNode:\n",
    "\n",
    "        curr = ListNode(0) # dummy node\n",
    "        ans = curr\n",
    "\n",
    "        while(l1 and l2):\n",
    "            if (l1.val > l2.val):\n",
    "                curr.next = l2\n",
    "                l2 = l2.next\n",
    "            else:\n",
    "                curr.next = l1\n",
    "                l1 = l1.next\n",
    "\n",
    "            curr = curr.next\n",
    "\n",
    "        while l1:\n",
    "            curr.next = l1\n",
    "            l1 = l1.next\n",
    "            curr = curr.next\n",
    "\n",
    "        while l2:\n",
    "            curr.next = l2\n",
    "            l2 = l2.next\n",
    "            curr = curr.next\n",
    "\n",
    "        return ans.next\n",
    "\n",
    "s17 = Solution17()\n",
    "\n",
    "# [1,2,4]\n",
    "l1_1 = ListNode(1)\n",
    "l1_2 = ListNode(2)\n",
    "l1_4 = ListNode(4)\n",
    "\n",
    "# l1: 1->2->4\n",
    "l1_1.next = l1_2\n",
    "l1_2.next = l1_4\n",
    "\n",
    "# [1,3,4]\n",
    "l2_1 = ListNode(1)\n",
    "l2_3 = ListNode(3)\n",
    "l2_4 = ListNode(4)\n",
    "\n",
    "# l2: 1->3->4\n",
    "l2_1.next = l2_3\n",
    "l2_3.next = l2_4\n",
    "ans17 = s17.mergeTwoLists(l1_1, l2_1)\n",
    "print(ans17)\n",
    "\n",
    "while (ans17 != None):\n",
    "    print(ans17.val)\n",
    "    ans17 = ans17.next"
   ]
  },
  {
   "cell_type": "code",
   "execution_count": 16,
   "metadata": {},
   "outputs": [
    {
     "name": "stdout",
     "output_type": "stream",
     "text": [
      "True\n"
     ]
    }
   ],
   "source": [
    "'''\n",
    "LinkedList Cycle\n",
    "\n",
    "- Given a linkedlist, return a boolean if there's a cycle\n",
    "'''\n",
    "\n",
    "class ListNode:\n",
    "\n",
    "    def __init__(self, x):\n",
    "        self.val = x\n",
    "        self.next = None\n",
    "\n",
    "class Solution18:\n",
    "    def hasCycle(self, head: ListNode) -> bool:\n",
    "\n",
    "        hare = head\n",
    "        turtle = head\n",
    "\n",
    "        while turtle and hare and hare.next:\n",
    "            hare = hare.next.next\n",
    "            turtle = turtle.next\n",
    "\n",
    "            if (turtle == hare):\n",
    "                return True\n",
    "\n",
    "        return False\n",
    "\n",
    "s18 = Solution18()\n",
    "\n",
    "node_1 = ListNode(1)\n",
    "node_5 = ListNode(5)\n",
    "node_11 = ListNode(11)\n",
    "node_8= ListNode(8)\n",
    "node_9= ListNode(9)\n",
    "\n",
    "node_1.next = node_5\n",
    "node_5.next = node_11\n",
    "node_11.next = node_8\n",
    "node_8.next = node_9\n",
    "node_9.next = node_5\n",
    "\n",
    "ans18 = s18.hasCycle(node_1)\n",
    "print(ans18)\n"
   ]
  },
  {
   "cell_type": "code",
   "execution_count": null,
   "metadata": {},
   "outputs": [],
   "source": [
    "'''\n",
    "Reverse LinkedList\n",
    "\n",
    "\n",
    "'''"
   ]
  }
 ],
 "metadata": {
  "interpreter": {
   "hash": "aee8b7b246df8f9039afb4144a1f6fd8d2ca17a180786b69acc140d282b71a49"
  },
  "kernelspec": {
   "display_name": "Python 3.7.4 64-bit",
   "name": "python3"
  },
  "language_info": {
   "codemirror_mode": {
    "name": "ipython",
    "version": 3
   },
   "file_extension": ".py",
   "mimetype": "text/x-python",
   "name": "python",
   "nbconvert_exporter": "python",
   "pygments_lexer": "ipython3",
   "version": "3.7.4"
  },
  "orig_nbformat": 4
 },
 "nbformat": 4,
 "nbformat_minor": 2
}
